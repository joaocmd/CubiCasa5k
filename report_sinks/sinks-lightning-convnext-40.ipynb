{
 "cells": [
  {
   "cell_type": "code",
   "execution_count": 2,
   "metadata": {},
   "outputs": [],
   "source": [
    "import os\n",
    "import cv2\n",
    "\n",
    "def load_image(img_path, img_size):\n",
    "    image = cv2.imread(img_path)\n",
    "    height, width, _ = image.shape\n",
    "    diff = height-width\n",
    "    if diff > 0:\n",
    "        image = cv2.copyMakeBorder(image, 0, 0, diff//2, diff//2, borderType=cv2.BORDER_CONSTANT, value=[255, 255, 255])\n",
    "    elif diff < 0:\n",
    "        image = cv2.copyMakeBorder(image, -diff//2, -diff//2, 0, 0, borderType=cv2.BORDER_CONSTANT, value=[255, 255, 255])\n",
    "    image = cv2.resize(image, (img_size, img_size), interpolation=cv2.INTER_AREA)\n",
    "    # image = cv2.cvtColor(image, cv2.COLOR_BGR2GRAY)\n",
    "    # image = np.expand_dims(image, -1)\n",
    "    return image\n",
    "\n",
    "def angle_difference(a, b):\n",
    "    return 180 - abs(abs(a - b) - 180)"
   ]
  },
  {
   "cell_type": "code",
   "execution_count": 3,
   "metadata": {},
   "outputs": [],
   "source": [
    "import torch\n",
    "import torch.nn as nn\n",
    "import torch.nn.functional as F\n",
    "import torch.optim as optim\n",
    "import torch.utils.data as data\n",
    "import pytorch_lightning as pl\n",
    "import torchmetrics as tm\n",
    "import torchvision.transforms as transforms\n",
    "import torchvision.transforms.functional as TF\n",
    "\n",
    "import numpy as np\n",
    "\n",
    "import matplotlib.pyplot as plt\n",
    "\n",
    "import random\n",
    "\n",
    "class RandomResizedCenterCrop(torch.nn.Module):\n",
    "    def __init__(self, max_crop_ratio=0.8):\n",
    "        super().__init__()\n",
    "        self.max_crop_ratio = max_crop_ratio\n",
    "\n",
    "    def forward(self, img):\n",
    "        _, H, W = img.size()\n",
    "        size = torch.LongTensor([H, W])\n",
    "\n",
    "        ratio = torch.rand(1) * (1-self.max_crop_ratio) + self.max_crop_ratio\n",
    "        crop_size = (size * ratio).int().tolist()\n",
    "\n",
    "        img = TF.center_crop(img, crop_size)\n",
    "        img = TF.resize(img, size.tolist(), interpolation=transforms.InterpolationMode.BILINEAR)\n",
    "\n",
    "        return img\n",
    "\n",
    "    def __repr__(self) -> str:\n",
    "        return f\"{self.__class__.__name__}(max_crop_ratio={self.max_crop_ratio})\"\n",
    "\n",
    "class SinksTrain(data.Dataset):\n",
    "    def __init__(self, classes, split='train', img_size=40, ratio=0.4):\n",
    "        self.classes = classes\n",
    "        self.folder = f'../sinks/{split}/'\n",
    "        self.files = os.listdir(self.folder)[1:] # remove A_wrong\n",
    "        self.normal_files = [f for f in self.files if 'Corner' not in f]\n",
    "        self.corner_files = [f for f in self.files if 'Corner' in f]\n",
    "        \n",
    "        # let x be the factor we need to multiply the number of elements in c\n",
    "        # to meet the ratio between classes\n",
    "        # c * x = ratio * (c*x + n)\n",
    "        # by solving for x we get:\n",
    "        # x = (ratio*n)/((1-ratio)*c)\n",
    "\n",
    "        if ratio != None:\n",
    "            n = len(self.files)\n",
    "            c = len(self.corner_files)\n",
    "            needed_factor = (ratio*n)/((1-ratio)*c)\n",
    "            self.corner_files = self.corner_files*int(needed_factor)\n",
    "\n",
    "        self.sink_files = self.normal_files + self.corner_files\n",
    "        self.img_size = img_size\n",
    "\n",
    "        self.transform = transforms.Compose([\n",
    "            transforms.RandomHorizontalFlip(p=0.5),\n",
    "            transforms.ColorJitter(0.1, 0.1, 0.1, 0.1)\n",
    "        ])\n",
    "        self.resize = RandomResizedCenterCrop(0.75)\n",
    "\n",
    "    def __len__(self):\n",
    "        return len(self.sink_files)\n",
    "\n",
    "    def __getitem__(self, idx):\n",
    "        name = self.sink_files[idx]\n",
    "        img = load_image(self.folder + name, self.img_size)\n",
    "        img = np.moveaxis(img, 2, 0)\n",
    "        img = (img / 255) * 2 - 1\n",
    "        img = torch.tensor(img).float()\n",
    "        img = self.transform(img)\n",
    "\n",
    "        rot = random.choice(self.classes[:-1])\n",
    "        img = TF.rotate(img, rot, interpolation=transforms.InterpolationMode.BILINEAR, fill=1)\n",
    "\n",
    "        img = self.resize(img)\n",
    "\n",
    "        return img, len(self.classes) - 1 if 'Corner' in name else rot//(360//(len(self.classes)-1))\n",
    "\n",
    "class SinksEval(data.Dataset):\n",
    "    def __init__(self, classes, split, n_samples=None, img_size=40, seed=0, ratio=0.3):\n",
    "        self.classes = classes\n",
    "        self.folder = f'../sinks/{split}/'\n",
    "        self.files = os.listdir(self.folder)[1:] # remove A_wrong\n",
    "        self.normal_files = [f for f in self.files if 'Corner' not in f]\n",
    "        self.corner_files = [f for f in self.files if 'Corner' in f]\n",
    "\n",
    "        if ratio != None:\n",
    "            n = len(self.files)\n",
    "            c = len(self.corner_files)\n",
    "            needed_factor = (ratio*n)/((1-ratio)*c)\n",
    "            self.corner_files = self.corner_files*int(needed_factor)\n",
    "\n",
    "        self.sink_files = self.normal_files + self.corner_files       \n",
    "\n",
    "        self.sink_files = [f+'@'+str(c) for f in self.files for c in classes[:-1]]\n",
    "\n",
    "\n",
    "        if n_samples != None:\n",
    "            random.seed(seed)\n",
    "            self.sink_files = random.sample(self.sink_files, n_samples)\n",
    "\n",
    "        self.img_size = img_size\n",
    "        self.split = split\n",
    "\n",
    "    def __len__(self):\n",
    "        return len(self.sink_files)\n",
    "\n",
    "    def __getitem__(self, idx):\n",
    "        name = self.sink_files[idx]\n",
    "        name, rot = name.split('@')\n",
    "        rot = int(rot)\n",
    "\n",
    "        img = load_image(self.folder + name, self.img_size)\n",
    "        img = np.moveaxis(img, 2, 0)\n",
    "        img = (img / 255) * 2 - 1\n",
    "        img = torch.tensor(img).float()\n",
    "\n",
    "        img = TF.rotate(img, rot, interpolation=transforms.InterpolationMode.BILINEAR, fill=1)\n",
    "\n",
    "        return img, len(self.classes) - 1 if 'Corner' in name else rot//(360//(len(self.classes)-1))\n"
   ]
  },
  {
   "cell_type": "code",
   "execution_count": 4,
   "metadata": {},
   "outputs": [
    {
     "name": "stderr",
     "output_type": "stream",
     "text": [
      "Clipping input data to the valid range for imshow with RGB data ([0..1] for floats or [0..255] for integers).\n",
      "Clipping input data to the valid range for imshow with RGB data ([0..1] for floats or [0..255] for integers).\n",
      "Clipping input data to the valid range for imshow with RGB data ([0..1] for floats or [0..255] for integers).\n",
      "Clipping input data to the valid range for imshow with RGB data ([0..1] for floats or [0..255] for integers).\n",
      "Clipping input data to the valid range for imshow with RGB data ([0..1] for floats or [0..255] for integers).\n",
      "Clipping input data to the valid range for imshow with RGB data ([0..1] for floats or [0..255] for integers).\n"
     ]
    },
    {
     "name": "stdout",
     "output_type": "stream",
     "text": [
      "1458\n"
     ]
    },
    {
     "data": {
      "text/plain": [
       "<matplotlib.image.AxesImage at 0x7f11611ee670>"
      ]
     },
     "execution_count": 4,
     "metadata": {},
     "output_type": "execute_result"
    },
    {
     "data": {
      "image/png": "[encoded data removed]",
      "text/plain": [
       "<Figure size 1800x360 with 5 Axes>"
      ]
     },
     "metadata": {
      "needs_background": "light"
     },
     "output_type": "display_data"
    }
   ],
   "source": [
    "classes = list(range(0, 360, 45)) + ['corner']\n",
    "\n",
    "s = SinksEval(classes, 'test', None)\n",
    "\n",
    "stride = 5\n",
    "n_figs = 5\n",
    "fig_size = 5\n",
    "\n",
    "fig, axes = plt.subplots(1, n_figs, figsize = (fig_size*n_figs, fig_size))\n",
    "\n",
    "for i in range(0, stride*n_figs*8, stride*8):\n",
    "    img, rot = s[i]\n",
    "    idx = i//(stride*len(classes))\n",
    "    axes[idx].axis('off')\n",
    "    axes[idx].imshow(img.permute(1,2,0))\n",
    "\n",
    "corner_idx = [i for (i, f) in enumerate(s.sink_files) if 'Corner' in f][10]\n",
    "print(corner_idx)\n",
    "\n",
    "axes[-1].axis('off')\n",
    "axes[-1].imshow(s[corner_idx][0].permute(1,2,0))\n",
    "\n",
    "# fig.savefig('sinks_examples.png', bbox_inches='tight')"
   ]
  },
  {
   "cell_type": "code",
   "execution_count": 5,
   "metadata": {},
   "outputs": [
    {
     "name": "stderr",
     "output_type": "stream",
     "text": [
      "Clipping input data to the valid range for imshow with RGB data ([0..1] for floats or [0..255] for integers).\n"
     ]
    },
    {
     "name": "stdout",
     "output_type": "stream",
     "text": [
      "0\n"
     ]
    },
    {
     "data": {
      "image/png": "[encoded data removed]",
      "text/plain": [
       "<Figure size 432x288 with 1 Axes>"
      ]
     },
     "metadata": {
      "needs_background": "light"
     },
     "output_type": "display_data"
    },
    {
     "name": "stderr",
     "output_type": "stream",
     "text": [
      "Clipping input data to the valid range for imshow with RGB data ([0..1] for floats or [0..255] for integers).\n"
     ]
    },
    {
     "name": "stdout",
     "output_type": "stream",
     "text": [
      "1\n"
     ]
    },
    {
     "data": {
      "image/png": "[encoded data removed]",
      "text/plain": [
       "<Figure size 432x288 with 1 Axes>"
      ]
     },
     "metadata": {
      "needs_background": "light"
     },
     "output_type": "display_data"
    },
    {
     "name": "stderr",
     "output_type": "stream",
     "text": [
      "Clipping input data to the valid range for imshow with RGB data ([0..1] for floats or [0..255] for integers).\n"
     ]
    },
    {
     "name": "stdout",
     "output_type": "stream",
     "text": [
      "2\n"
     ]
    },
    {
     "data": {
      "image/png": "[encoded data removed]",
      "text/plain": [
       "<Figure size 432x288 with 1 Axes>"
      ]
     },
     "metadata": {
      "needs_background": "light"
     },
     "output_type": "display_data"
    }
   ],
   "source": [
    "\n",
    "s = SinksEval(classes, 'test', None)\n",
    "t = SinksTrain(classes)\n",
    "for i in range(3):\n",
    "    im, rot = s[i]\n",
    "    print(rot)\n",
    "    plt.imshow(im.permute(1,2,0))\n",
    "    plt.show()"
   ]
  },
  {
   "cell_type": "code",
   "execution_count": 6,
   "metadata": {},
   "outputs": [],
   "source": [
    "def labels_to_angles(labels, classes):\n",
    "    return labels*(360//len(classes))\n",
    "\n",
    "def tensor_angle_diff(preds, gt):\n",
    "    return 180 - torch.abs(torch.abs(preds - gt) - 180)\n",
    "\n",
    "# testloader = data.DataLoader(SinksEval(classes, 'test', 1000), batch_size=4, num_workers=1)\n",
    "# x, y = next(iter(testloader))\n",
    "\n",
    "# gt_angles = labels_to_angles(y, classes)\n",
    "# print(gt_angles)\n",
    "# preds = torch.LongTensor([225, 135, 135, 90])\n",
    "# print(preds)\n",
    "# print(tensor_angle_diff(gt_angles, preds))"
   ]
  },
  {
   "cell_type": "code",
   "execution_count": 7,
   "metadata": {},
   "outputs": [],
   "source": [
    "import torchvision.models as models\n",
    "\n",
    "class Net(pl.LightningModule):\n",
    "\n",
    "    def __init__(self, classes):\n",
    "        super().__init__()\n",
    "        self.classes = classes\n",
    "        self.n_classes = len(classes)\n",
    "\n",
    "        self.net = models.convnext_tiny(pretrained=True)\n",
    "        in_features = self.net.classifier[2].in_features\n",
    "        self.net.classifier[2] = nn.Linear(in_features, self.n_classes)\n",
    "\n",
    "        self.accuracy = tm.Accuracy()\n",
    "\n",
    "\n",
    "    def forward(self, x):\n",
    "        return self.net(x)\n",
    "\n",
    "    def training_step(self, batch, batch_idx):\n",
    "        x, y = batch\n",
    "        logits = self(x)\n",
    "        ce_loss = F.cross_entropy(logits, y)\n",
    "\n",
    "        self.log(\"train_ce_loss\", ce_loss, prog_bar=True)\n",
    "\n",
    "        return ce_loss\n",
    "    \n",
    "    def validation_step(self, batch, batch_idx):\n",
    "        x, y = batch\n",
    "        logits = self(x)\n",
    "        ce_loss = F.cross_entropy(logits, y)\n",
    "\n",
    "        preds = torch.argmax(logits, dim=1)\n",
    "        self.accuracy(preds, y)\n",
    "\n",
    "        self.log(\"val_acc\", self.accuracy, prog_bar=True)\n",
    "        self.log(\"val_ce_loss\", ce_loss, prog_bar=True)\n",
    "\n",
    "        return ce_loss\n",
    "    \n",
    "    def test_step(self, batch, batch_idx):\n",
    "        x, y = batch\n",
    "        logits = self(x)\n",
    "        ce_loss = F.cross_entropy(logits, y)\n",
    "\n",
    "        preds = torch.argmax(logits, dim=1)\n",
    "        self.accuracy(preds, y)\n",
    "\n",
    "        self.log(\"test_acc\", self.accuracy, prog_bar=True)\n",
    "        self.log(\"test_ce_loss\", ce_loss, prog_bar=True)\n",
    "\n",
    "        return ce_loss\n",
    " \n",
    "    def configure_optimizers(self):\n",
    "        return optim.Adam(self.parameters())"
   ]
  },
  {
   "cell_type": "code",
   "execution_count": 8,
   "metadata": {},
   "outputs": [
    {
     "name": "stderr",
     "output_type": "stream",
     "text": [
      "/mnt/c/Users/joaodavid/Desktop/CubiCasa5k/venv/lib/python3.8/site-packages/torchvision/models/_utils.py:208: UserWarning: The parameter 'pretrained' is deprecated since 0.13 and will be removed in 0.15, please use 'weights' instead.\n",
      "  warnings.warn(\n",
      "/mnt/c/Users/joaodavid/Desktop/CubiCasa5k/venv/lib/python3.8/site-packages/torchvision/models/_utils.py:223: UserWarning: Arguments other than a weight enum or `None` for 'weights' are deprecated since 0.13 and will be removed in 0.15. The current behavior is equivalent to passing `weights=ConvNeXt_Tiny_Weights.IMAGENET1K_V1`. You can also use `weights=ConvNeXt_Tiny_Weights.DEFAULT` to get the most up-to-date weights.\n",
      "  warnings.warn(msg)\n",
      "GPU available: True, used: True\n",
      "TPU available: False, using: 0 TPU cores\n",
      "IPU available: False, using: 0 IPUs\n",
      "HPU available: False, using: 0 HPUs\n"
     ]
    }
   ],
   "source": [
    "name = 'sinks-classification'\n",
    "version = 'bgr_ce_40'\n",
    "classes = list(range(0, 360, 45)) + ['corner']\n",
    "model = Net(classes)\n",
    "\n",
    "trainloader = data.DataLoader(SinksTrain(classes), batch_size=64, shuffle=True, num_workers=6)\n",
    "valloader = data.DataLoader(SinksEval(classes, 'val', 1000), batch_size=64, num_workers=6)\n",
    "# valloader = data.DataLoader(ToiletsTrain(classes), batch_size=64, num_workers=6)\n",
    "\n",
    "logger = pl.loggers.TensorBoardLogger('../lightning_logs', name=name, version=version)\n",
    "trainer = pl.Trainer(\n",
    "    accelerator='gpu',\n",
    "    devices=1,\n",
    "    max_epochs=-1,\n",
    "    logger=logger,\n",
    "    log_every_n_steps=20,\n",
    "    callbacks=[\n",
    "        pl.callbacks.progress.TQDMProgressBar(refresh_rate=20),\n",
    "        pl.callbacks.ModelCheckpoint(monitor=\"val_ce_loss\", save_last=True, save_top_k=3, filename='{epoch}-{val_ce_loss:.3f}-{val_acc:.3f}')\n",
    "    ],\n",
    ")"
   ]
  },
  {
   "cell_type": "code",
   "execution_count": 9,
   "metadata": {},
   "outputs": [
    {
     "name": "stderr",
     "output_type": "stream",
     "text": [
      "LOCAL_RANK: 0 - CUDA_VISIBLE_DEVICES: [0]\n",
      "\n",
      "  | Name     | Type     | Params\n",
      "--------------------------------------\n",
      "0 | net      | ConvNeXt | 27.8 M\n",
      "1 | accuracy | Accuracy | 0     \n",
      "--------------------------------------\n",
      "27.8 M    Trainable params\n",
      "0         Non-trainable params\n",
      "27.8 M    Total params\n",
      "111.308   Total estimated model params size (MB)\n"
     ]
    },
    {
     "data": {
      "application/vnd.jupyter.widget-view+json": {
       "model_id": "bf56453781554753afdb0a7635c9fa47",
       "version_major": 2,
       "version_minor": 0
      },
      "text/plain": [
       "Sanity Checking: 0it [00:00, ?it/s]"
      ]
     },
     "metadata": {},
     "output_type": "display_data"
    },
    {
     "data": {
      "application/vnd.jupyter.widget-view+json": {
       "model_id": "db4f20b8ae0d4fb087eadeb33362da83",
       "version_major": 2,
       "version_minor": 0
      },
      "text/plain": [
       "Training: 0it [00:00, ?it/s]"
      ]
     },
     "metadata": {},
     "output_type": "display_data"
    },
    {
     "data": {
      "application/vnd.jupyter.widget-view+json": {
       "model_id": "c4ddbf2dcf3b47b2a3307eceff59456c",
       "version_major": 2,
       "version_minor": 0
      },
      "text/plain": [
       "Validation: 0it [00:00, ?it/s]"
      ]
     },
     "metadata": {},
     "output_type": "display_data"
    },
    {
     "data": {
      "application/vnd.jupyter.widget-view+json": {
       "model_id": "a9fbfddf526e4791836f6d8e667dd81e",
       "version_major": 2,
       "version_minor": 0
      },
      "text/plain": [
       "Validation: 0it [00:00, ?it/s]"
      ]
     },
     "metadata": {},
     "output_type": "display_data"
    },
    {
     "data": {
      "application/vnd.jupyter.widget-view+json": {
       "model_id": "4d5e1dd7c92241bfa28617e3484aa2ba",
       "version_major": 2,
       "version_minor": 0
      },
      "text/plain": [
       "Validation: 0it [00:00, ?it/s]"
      ]
     },
     "metadata": {},
     "output_type": "display_data"
    },
    {
     "data": {
      "application/vnd.jupyter.widget-view+json": {
       "model_id": "d6394a778a36488ea39cb905fad2cdb9",
       "version_major": 2,
       "version_minor": 0
      },
      "text/plain": [
       "Validation: 0it [00:00, ?it/s]"
      ]
     },
     "metadata": {},
     "output_type": "display_data"
    },
    {
     "data": {
      "application/vnd.jupyter.widget-view+json": {
       "model_id": "9f4aa2eaf0174caeaf248e7032da4e44",
       "version_major": 2,
       "version_minor": 0
      },
      "text/plain": [
       "Validation: 0it [00:00, ?it/s]"
      ]
     },
     "metadata": {},
     "output_type": "display_data"
    },
    {
     "data": {
      "application/vnd.jupyter.widget-view+json": {
       "model_id": "2dd84513a0a44f83a8b0d106ca25f7cb",
       "version_major": 2,
       "version_minor": 0
      },
      "text/plain": [
       "Validation: 0it [00:00, ?it/s]"
      ]
     },
     "metadata": {},
     "output_type": "display_data"
    },
    {
     "data": {
      "application/vnd.jupyter.widget-view+json": {
       "model_id": "a004321aaedd4c2499b07ebf7d185e4c",
       "version_major": 2,
       "version_minor": 0
      },
      "text/plain": [
       "Validation: 0it [00:00, ?it/s]"
      ]
     },
     "metadata": {},
     "output_type": "display_data"
    },
    {
     "data": {
      "application/vnd.jupyter.widget-view+json": {
       "model_id": "2f71b377c42643039deebbae167e5ff0",
       "version_major": 2,
       "version_minor": 0
      },
      "text/plain": [
       "Validation: 0it [00:00, ?it/s]"
      ]
     },
     "metadata": {},
     "output_type": "display_data"
    },
    {
     "data": {
      "application/vnd.jupyter.widget-view+json": {
       "model_id": "ea5ca391a5da46cc854ef5c04762e1b2",
       "version_major": 2,
       "version_minor": 0
      },
      "text/plain": [
       "Validation: 0it [00:00, ?it/s]"
      ]
     },
     "metadata": {},
     "output_type": "display_data"
    },
    {
     "data": {
      "application/vnd.jupyter.widget-view+json": {
       "model_id": "7616548fab3c41228c8bc41efda2f8be",
       "version_major": 2,
       "version_minor": 0
      },
      "text/plain": [
       "Validation: 0it [00:00, ?it/s]"
      ]
     },
     "metadata": {},
     "output_type": "display_data"
    },
    {
     "data": {
      "application/vnd.jupyter.widget-view+json": {
       "model_id": "7c075b44bb514016b656f9a280f67182",
       "version_major": 2,
       "version_minor": 0
      },
      "text/plain": [
       "Validation: 0it [00:00, ?it/s]"
      ]
     },
     "metadata": {},
     "output_type": "display_data"
    },
    {
     "data": {
      "application/vnd.jupyter.widget-view+json": {
       "model_id": "c4674d0425a04113bc17f11f05e9fbd4",
       "version_major": 2,
       "version_minor": 0
      },
      "text/plain": [
       "Validation: 0it [00:00, ?it/s]"
      ]
     },
     "metadata": {},
     "output_type": "display_data"
    },
    {
     "data": {
      "application/vnd.jupyter.widget-view+json": {
       "model_id": "65c6d21927854bb9a83533332966035b",
       "version_major": 2,
       "version_minor": 0
      },
      "text/plain": [
       "Validation: 0it [00:00, ?it/s]"
      ]
     },
     "metadata": {},
     "output_type": "display_data"
    },
    {
     "data": {
      "application/vnd.jupyter.widget-view+json": {
       "model_id": "e1e900c1d32f458c98f5c8f6044cdd26",
       "version_major": 2,
       "version_minor": 0
      },
      "text/plain": [
       "Validation: 0it [00:00, ?it/s]"
      ]
     },
     "metadata": {},
     "output_type": "display_data"
    },
    {
     "data": {
      "application/vnd.jupyter.widget-view+json": {
       "model_id": "7d939a2500ec4e868a3b322e5042dd36",
       "version_major": 2,
       "version_minor": 0
      },
      "text/plain": [
       "Validation: 0it [00:00, ?it/s]"
      ]
     },
     "metadata": {},
     "output_type": "display_data"
    },
    {
     "data": {
      "application/vnd.jupyter.widget-view+json": {
       "model_id": "4a3c8a1f530f46debc9ef2f83e6849bf",
       "version_major": 2,
       "version_minor": 0
      },
      "text/plain": [
       "Validation: 0it [00:00, ?it/s]"
      ]
     },
     "metadata": {},
     "output_type": "display_data"
    },
    {
     "data": {
      "application/vnd.jupyter.widget-view+json": {
       "model_id": "4876b2b853b44a81a75cf419da5a9538",
       "version_major": 2,
       "version_minor": 0
      },
      "text/plain": [
       "Validation: 0it [00:00, ?it/s]"
      ]
     },
     "metadata": {},
     "output_type": "display_data"
    },
    {
     "data": {
      "application/vnd.jupyter.widget-view+json": {
       "model_id": "0880bfb754c347d49ab88e0fb8cd86d6",
       "version_major": 2,
       "version_minor": 0
      },
      "text/plain": [
       "Validation: 0it [00:00, ?it/s]"
      ]
     },
     "metadata": {},
     "output_type": "display_data"
    },
    {
     "data": {
      "application/vnd.jupyter.widget-view+json": {
       "model_id": "8cf3048f3d5d494d82e35764523b6bdf",
       "version_major": 2,
       "version_minor": 0
      },
      "text/plain": [
       "Validation: 0it [00:00, ?it/s]"
      ]
     },
     "metadata": {},
     "output_type": "display_data"
    },
    {
     "data": {
      "application/vnd.jupyter.widget-view+json": {
       "model_id": "d0107f7172d74db1a5e4455fa77bf9b8",
       "version_major": 2,
       "version_minor": 0
      },
      "text/plain": [
       "Validation: 0it [00:00, ?it/s]"
      ]
     },
     "metadata": {},
     "output_type": "display_data"
    },
    {
     "data": {
      "application/vnd.jupyter.widget-view+json": {
       "model_id": "46537c3652b3418fa8bd5c28c89d27ed",
       "version_major": 2,
       "version_minor": 0
      },
      "text/plain": [
       "Validation: 0it [00:00, ?it/s]"
      ]
     },
     "metadata": {},
     "output_type": "display_data"
    },
    {
     "data": {
      "application/vnd.jupyter.widget-view+json": {
       "model_id": "4443023c94ac489ca26e9c9ead8ba243",
       "version_major": 2,
       "version_minor": 0
      },
      "text/plain": [
       "Validation: 0it [00:00, ?it/s]"
      ]
     },
     "metadata": {},
     "output_type": "display_data"
    },
    {
     "data": {
      "application/vnd.jupyter.widget-view+json": {
       "model_id": "c7a4e7c74741409d98c481c18487a0c0",
       "version_major": 2,
       "version_minor": 0
      },
      "text/plain": [
       "Validation: 0it [00:00, ?it/s]"
      ]
     },
     "metadata": {},
     "output_type": "display_data"
    },
    {
     "data": {
      "application/vnd.jupyter.widget-view+json": {
       "model_id": "15d5f9692449443ba0b1a14b973424ca",
       "version_major": 2,
       "version_minor": 0
      },
      "text/plain": [
       "Validation: 0it [00:00, ?it/s]"
      ]
     },
     "metadata": {},
     "output_type": "display_data"
    },
    {
     "data": {
      "application/vnd.jupyter.widget-view+json": {
       "model_id": "233ddf6bf8d0495eae3cca2433ddede6",
       "version_major": 2,
       "version_minor": 0
      },
      "text/plain": [
       "Validation: 0it [00:00, ?it/s]"
      ]
     },
     "metadata": {},
     "output_type": "display_data"
    },
    {
     "data": {
      "application/vnd.jupyter.widget-view+json": {
       "model_id": "a1f0aa243cbc4861b89b04113c7945ba",
       "version_major": 2,
       "version_minor": 0
      },
      "text/plain": [
       "Validation: 0it [00:00, ?it/s]"
      ]
     },
     "metadata": {},
     "output_type": "display_data"
    },
    {
     "data": {
      "application/vnd.jupyter.widget-view+json": {
       "model_id": "c4c590c49c994c21849758921286a990",
       "version_major": 2,
       "version_minor": 0
      },
      "text/plain": [
       "Validation: 0it [00:00, ?it/s]"
      ]
     },
     "metadata": {},
     "output_type": "display_data"
    },
    {
     "data": {
      "application/vnd.jupyter.widget-view+json": {
       "model_id": "efc6b3871a8143cf86737b52bc9eea0c",
       "version_major": 2,
       "version_minor": 0
      },
      "text/plain": [
       "Validation: 0it [00:00, ?it/s]"
      ]
     },
     "metadata": {},
     "output_type": "display_data"
    },
    {
     "data": {
      "application/vnd.jupyter.widget-view+json": {
       "model_id": "2b86d068f12b4076a7031aea6054d95b",
       "version_major": 2,
       "version_minor": 0
      },
      "text/plain": [
       "Validation: 0it [00:00, ?it/s]"
      ]
     },
     "metadata": {},
     "output_type": "display_data"
    },
    {
     "data": {
      "application/vnd.jupyter.widget-view+json": {
       "model_id": "82ca5e3b924e435e932433f09daa5e9b",
       "version_major": 2,
       "version_minor": 0
      },
      "text/plain": [
       "Validation: 0it [00:00, ?it/s]"
      ]
     },
     "metadata": {},
     "output_type": "display_data"
    },
    {
     "data": {
      "application/vnd.jupyter.widget-view+json": {
       "model_id": "c0341855fbbd44b09e7f01a94e968c0f",
       "version_major": 2,
       "version_minor": 0
      },
      "text/plain": [
       "Validation: 0it [00:00, ?it/s]"
      ]
     },
     "metadata": {},
     "output_type": "display_data"
    },
    {
     "data": {
      "application/vnd.jupyter.widget-view+json": {
       "model_id": "2efc6dd647334332b9f043abe8759568",
       "version_major": 2,
       "version_minor": 0
      },
      "text/plain": [
       "Validation: 0it [00:00, ?it/s]"
      ]
     },
     "metadata": {},
     "output_type": "display_data"
    },
    {
     "data": {
      "application/vnd.jupyter.widget-view+json": {
       "model_id": "0c9007ebece5475eb3622657c04a9f63",
       "version_major": 2,
       "version_minor": 0
      },
      "text/plain": [
       "Validation: 0it [00:00, ?it/s]"
      ]
     },
     "metadata": {},
     "output_type": "display_data"
    },
    {
     "data": {
      "application/vnd.jupyter.widget-view+json": {
       "model_id": "04a34ce2bf3e4ee29747e82c9291e516",
       "version_major": 2,
       "version_minor": 0
      },
      "text/plain": [
       "Validation: 0it [00:00, ?it/s]"
      ]
     },
     "metadata": {},
     "output_type": "display_data"
    },
    {
     "data": {
      "application/vnd.jupyter.widget-view+json": {
       "model_id": "48cf9d8ca874441ca5e2a05ac2c34f9e",
       "version_major": 2,
       "version_minor": 0
      },
      "text/plain": [
       "Validation: 0it [00:00, ?it/s]"
      ]
     },
     "metadata": {},
     "output_type": "display_data"
    },
    {
     "data": {
      "application/vnd.jupyter.widget-view+json": {
       "model_id": "fa0329c3615c4fd3aaf2efba4ce6cce2",
       "version_major": 2,
       "version_minor": 0
      },
      "text/plain": [
       "Validation: 0it [00:00, ?it/s]"
      ]
     },
     "metadata": {},
     "output_type": "display_data"
    },
    {
     "data": {
      "application/vnd.jupyter.widget-view+json": {
       "model_id": "05ca0516c8ed4ee799427fb87a58b7a2",
       "version_major": 2,
       "version_minor": 0
      },
      "text/plain": [
       "Validation: 0it [00:00, ?it/s]"
      ]
     },
     "metadata": {},
     "output_type": "display_data"
    },
    {
     "data": {
      "application/vnd.jupyter.widget-view+json": {
       "model_id": "08e6d5d33fe84ce6bc61cbc6c22f0052",
       "version_major": 2,
       "version_minor": 0
      },
      "text/plain": [
       "Validation: 0it [00:00, ?it/s]"
      ]
     },
     "metadata": {},
     "output_type": "display_data"
    },
    {
     "data": {
      "application/vnd.jupyter.widget-view+json": {
       "model_id": "d59019424f9f4538bd5077cbb93a7527",
       "version_major": 2,
       "version_minor": 0
      },
      "text/plain": [
       "Validation: 0it [00:00, ?it/s]"
      ]
     },
     "metadata": {},
     "output_type": "display_data"
    },
    {
     "data": {
      "application/vnd.jupyter.widget-view+json": {
       "model_id": "24ddf76cdf1a4f8ebff6d3529617c0c2",
       "version_major": 2,
       "version_minor": 0
      },
      "text/plain": [
       "Validation: 0it [00:00, ?it/s]"
      ]
     },
     "metadata": {},
     "output_type": "display_data"
    },
    {
     "data": {
      "application/vnd.jupyter.widget-view+json": {
       "model_id": "22607aba117e4b22ae303554ee7f8db7",
       "version_major": 2,
       "version_minor": 0
      },
      "text/plain": [
       "Validation: 0it [00:00, ?it/s]"
      ]
     },
     "metadata": {},
     "output_type": "display_data"
    },
    {
     "data": {
      "application/vnd.jupyter.widget-view+json": {
       "model_id": "4630dadbff12483785a460ff969a8e7b",
       "version_major": 2,
       "version_minor": 0
      },
      "text/plain": [
       "Validation: 0it [00:00, ?it/s]"
      ]
     },
     "metadata": {},
     "output_type": "display_data"
    },
    {
     "data": {
      "application/vnd.jupyter.widget-view+json": {
       "model_id": "f5133c64cffb42fa8b75e8a98734f91a",
       "version_major": 2,
       "version_minor": 0
      },
      "text/plain": [
       "Validation: 0it [00:00, ?it/s]"
      ]
     },
     "metadata": {},
     "output_type": "display_data"
    },
    {
     "data": {
      "application/vnd.jupyter.widget-view+json": {
       "model_id": "65049f714444433a9c71855bda277d72",
       "version_major": 2,
       "version_minor": 0
      },
      "text/plain": [
       "Validation: 0it [00:00, ?it/s]"
      ]
     },
     "metadata": {},
     "output_type": "display_data"
    },
    {
     "data": {
      "application/vnd.jupyter.widget-view+json": {
       "model_id": "cce84e26b86b46dab5a75a1c583df9f6",
       "version_major": 2,
       "version_minor": 0
      },
      "text/plain": [
       "Validation: 0it [00:00, ?it/s]"
      ]
     },
     "metadata": {},
     "output_type": "display_data"
    },
    {
     "data": {
      "application/vnd.jupyter.widget-view+json": {
       "model_id": "c0584fff22fa49faa593a31d295c3a14",
       "version_major": 2,
       "version_minor": 0
      },
      "text/plain": [
       "Validation: 0it [00:00, ?it/s]"
      ]
     },
     "metadata": {},
     "output_type": "display_data"
    },
    {
     "data": {
      "application/vnd.jupyter.widget-view+json": {
       "model_id": "9ed9aea4d5f240e8973d83b31e0ab563",
       "version_major": 2,
       "version_minor": 0
      },
      "text/plain": [
       "Validation: 0it [00:00, ?it/s]"
      ]
     },
     "metadata": {},
     "output_type": "display_data"
    },
    {
     "data": {
      "application/vnd.jupyter.widget-view+json": {
       "model_id": "81323ad179c744fb936aa76f0b09d3f7",
       "version_major": 2,
       "version_minor": 0
      },
      "text/plain": [
       "Validation: 0it [00:00, ?it/s]"
      ]
     },
     "metadata": {},
     "output_type": "display_data"
    },
    {
     "data": {
      "application/vnd.jupyter.widget-view+json": {
       "model_id": "b9e0fbec1638497a91c072a0608afa90",
       "version_major": 2,
       "version_minor": 0
      },
      "text/plain": [
       "Validation: 0it [00:00, ?it/s]"
      ]
     },
     "metadata": {},
     "output_type": "display_data"
    },
    {
     "data": {
      "application/vnd.jupyter.widget-view+json": {
       "model_id": "d5b3208be7014785aa348a2afa78d60e",
       "version_major": 2,
       "version_minor": 0
      },
      "text/plain": [
       "Validation: 0it [00:00, ?it/s]"
      ]
     },
     "metadata": {},
     "output_type": "display_data"
    },
    {
     "data": {
      "application/vnd.jupyter.widget-view+json": {
       "model_id": "b4ec26af011546cbaf786e0e30cd46df",
       "version_major": 2,
       "version_minor": 0
      },
      "text/plain": [
       "Validation: 0it [00:00, ?it/s]"
      ]
     },
     "metadata": {},
     "output_type": "display_data"
    },
    {
     "data": {
      "application/vnd.jupyter.widget-view+json": {
       "model_id": "030727b2656a480d9da2cdd1ebed0436",
       "version_major": 2,
       "version_minor": 0
      },
      "text/plain": [
       "Validation: 0it [00:00, ?it/s]"
      ]
     },
     "metadata": {},
     "output_type": "display_data"
    },
    {
     "data": {
      "application/vnd.jupyter.widget-view+json": {
       "model_id": "0d880d49e3d24cbeaa22238941b5a85e",
       "version_major": 2,
       "version_minor": 0
      },
      "text/plain": [
       "Validation: 0it [00:00, ?it/s]"
      ]
     },
     "metadata": {},
     "output_type": "display_data"
    },
    {
     "data": {
      "application/vnd.jupyter.widget-view+json": {
       "model_id": "559df907d0904ed38fb191c35bed6138",
       "version_major": 2,
       "version_minor": 0
      },
      "text/plain": [
       "Validation: 0it [00:00, ?it/s]"
      ]
     },
     "metadata": {},
     "output_type": "display_data"
    },
    {
     "data": {
      "application/vnd.jupyter.widget-view+json": {
       "model_id": "eac2d6b7c1494655a35bdbed9d1d7004",
       "version_major": 2,
       "version_minor": 0
      },
      "text/plain": [
       "Validation: 0it [00:00, ?it/s]"
      ]
     },
     "metadata": {},
     "output_type": "display_data"
    },
    {
     "data": {
      "application/vnd.jupyter.widget-view+json": {
       "model_id": "8a7d8e383544454997eb3b02b3203e95",
       "version_major": 2,
       "version_minor": 0
      },
      "text/plain": [
       "Validation: 0it [00:00, ?it/s]"
      ]
     },
     "metadata": {},
     "output_type": "display_data"
    },
    {
     "data": {
      "application/vnd.jupyter.widget-view+json": {
       "model_id": "a9ef60b1604f4308b9df27aabb9f3f09",
       "version_major": 2,
       "version_minor": 0
      },
      "text/plain": [
       "Validation: 0it [00:00, ?it/s]"
      ]
     },
     "metadata": {},
     "output_type": "display_data"
    },
    {
     "data": {
      "application/vnd.jupyter.widget-view+json": {
       "model_id": "0a70ec91d42a4baa90c290397c4e694b",
       "version_major": 2,
       "version_minor": 0
      },
      "text/plain": [
       "Validation: 0it [00:00, ?it/s]"
      ]
     },
     "metadata": {},
     "output_type": "display_data"
    },
    {
     "data": {
      "application/vnd.jupyter.widget-view+json": {
       "model_id": "627183bf7b464955856459ed4e536d04",
       "version_major": 2,
       "version_minor": 0
      },
      "text/plain": [
       "Validation: 0it [00:00, ?it/s]"
      ]
     },
     "metadata": {},
     "output_type": "display_data"
    },
    {
     "data": {
      "application/vnd.jupyter.widget-view+json": {
       "model_id": "f67c8d003e6948c68238606e5ea1c559",
       "version_major": 2,
       "version_minor": 0
      },
      "text/plain": [
       "Validation: 0it [00:00, ?it/s]"
      ]
     },
     "metadata": {},
     "output_type": "display_data"
    },
    {
     "data": {
      "application/vnd.jupyter.widget-view+json": {
       "model_id": "e0911c019e6b4e11b842ec134751f021",
       "version_major": 2,
       "version_minor": 0
      },
      "text/plain": [
       "Validation: 0it [00:00, ?it/s]"
      ]
     },
     "metadata": {},
     "output_type": "display_data"
    },
    {
     "data": {
      "application/vnd.jupyter.widget-view+json": {
       "model_id": "10c5f09733804c7588453b9d1f63b1d9",
       "version_major": 2,
       "version_minor": 0
      },
      "text/plain": [
       "Validation: 0it [00:00, ?it/s]"
      ]
     },
     "metadata": {},
     "output_type": "display_data"
    },
    {
     "name": "stderr",
     "output_type": "stream",
     "text": [
      "/mnt/c/Users/joaodavid/Desktop/CubiCasa5k/venv/lib/python3.8/site-packages/pytorch_lightning/trainer/trainer.py:727: UserWarning: Detected KeyboardInterrupt, attempting graceful shutdown...\n",
      "  rank_zero_warn(\"Detected KeyboardInterrupt, attempting graceful shutdown...\")\n"
     ]
    }
   ],
   "source": [
    "trainer.fit(model, trainloader, valloader)"
   ]
  },
  {
   "cell_type": "code",
   "execution_count": null,
   "metadata": {},
   "outputs": [],
   "source": [
    "testloader = data.DataLoader(SinksEval(classes, 'test', ratio=None), batch_size=64, num_workers=6)\n",
    "import time\n",
    "start = time.time()\n",
    "iters = 1\n",
    "for i in range(iters):\n",
    "    trainer.test(model, testloader, ckpt_path=f'../lightning_logs/{name}/{version}/checkpoints/epoch=32-val_ce_loss=0.058-val_acc=0.988.ckpt')\n",
    "print((time.time() - start)/iters)"
   ]
  },
  {
   "cell_type": "code",
   "execution_count": null,
   "metadata": {},
   "outputs": [],
   "source": [
    "from tqdm import tqdm\n",
    "\n",
    "testloader = data.DataLoader(SinksEval(classes, 'test', ratio=None), batch_size=64, num_workers=1)\n",
    "print(len(SinksEval(classes, 'test', ratio=None)))\n",
    "all_preds = []\n",
    "all_gt = []\n",
    "model.eval()\n",
    "with torch.no_grad():\n",
    "    for x, y in tqdm(testloader):\n",
    "        preds = model(x).argmax(1).numpy()\n",
    "        all_preds.append(list(preds))\n",
    "        all_gt.append(y.numpy())\n",
    "\n",
    "all_preds = torch.as_tensor(np.array([item for sublist in all_preds for item in sublist]))\n",
    "all_gt = torch.as_tensor(np.array([item for sublist in all_gt for item in sublist]))"
   ]
  },
  {
   "cell_type": "code",
   "execution_count": null,
   "metadata": {},
   "outputs": [],
   "source": [
    "import seaborn as sn\n",
    "\n",
    "cm = tm.ConfusionMatrix(len(classes))\n",
    "matrix = cm(all_preds, all_gt).numpy()\n",
    "\n",
    "np.savetxt('sinks_cm.txt', cm, fmt='%d')\n",
    "plt.figure(figsize=(10, 10))\n",
    "ax = plt.axes()\n",
    "ax = sn.heatmap(matrix, annot=True, fmt='g', cmap='Blues', linewidth=.5, xticklabels=classes, yticklabels=classes, ax=ax)\n",
    "plt.xlabel('Predicted')\n",
    "plt.ylabel('Ground Truth')\n",
    "plt.savefig('sinks_results.svg')\n",
    "plt.show()"
   ]
  },
  {
   "cell_type": "code",
   "execution_count": null,
   "metadata": {},
   "outputs": [],
   "source": [
    "tp = np.diag(matrix)\n",
    "acc = tp/np.sum(matrix, axis=1)\n",
    "precision = tp/np.sum(matrix, axis=0)\n",
    "\n",
    "print('class,'+ ','.join([str(c) for c in classes]))\n",
    "print('accuracy,'+ ','.join([f'{el*100:4.2f}' for el in acc]))\n",
    "print('precision,'+ ','.join([f'{el*100:4.2f}' for el in precision]))"
   ]
  },
  {
   "cell_type": "code",
   "execution_count": null,
   "metadata": {},
   "outputs": [],
   "source": [
    "torch.save(model.state_dict(), 'toilet-network.pth')"
   ]
  },
  {
   "cell_type": "code",
   "execution_count": null,
   "metadata": {},
   "outputs": [],
   "source": [
    "# model = Net.load_from_checkpoint('../lightning_logs/toilets-classification/bgr_ce/checkpoints/last.ckpt', classes=classes)\n",
    "\n",
    "class RawNet(nn.Module):\n",
    "\n",
    "    def __init__(self, classes):\n",
    "        super().__init__()\n",
    "\n",
    "        self.classes = classes\n",
    "        self.n_classes = len(classes)\n",
    "\n",
    "        self.net = models.convnext_tiny(weights=models.ConvNeXt_Tiny_Weights.IMAGENET1K_V1)\n",
    "        in_features = self.net.classifier[2].in_features\n",
    "        self.net.classifier[2] = nn.Linear(in_features, self.n_classes)\n",
    "\n",
    "    def forward(self, x):\n",
    "        return self.net(x)\n",
    "\n",
    "\n",
    "model2 = RawNet(classes)\n",
    "model2.load_state_dict(torch.load('toilet-network.pth'))"
   ]
  },
  {
   "cell_type": "code",
   "execution_count": null,
   "metadata": {},
   "outputs": [],
   "source": [
    "testloader = data.DataLoader(ToiletsEval(classes, 'test', None), batch_size=16, num_workers=1)\n",
    "\n",
    "with torch.no_grad():\n",
    "    for idx, (img, label) in enumerate(iter(testloader)):\n",
    "        if all_preds[idx] != all_gt[idx]:\n",
    "            img_rgb = ((img.numpy() + 1)/2 * 255).astype(np.int)[0]\n",
    "            img_rgb = np.moveaxis(img_rgb, 0, 2)\n",
    "            im, rot = t[idx]\n",
    "            plt.imshow(im.permute(1,2,0))\n",
    "            plt.show()\n",
    "            # plt.imshow(img_rgb)\n",
    "            # plt.show()\n",
    "            print(f'Expected: {all_gt[idx]*(360//len(classes))}')\n",
    "            # predict = model(img).argmax().item()\n",
    "            print(f'Got: {all_preds[idx]*(360//len(classes))}')\n",
    "            # print(f'Classified as: {predict*(360//len(classes))}')\n",
    "            \n",
    "        "
   ]
  },
  {
   "cell_type": "code",
   "execution_count": null,
   "metadata": {},
   "outputs": [],
   "source": [
    "example = iter(testloader)"
   ]
  },
  {
   "cell_type": "code",
   "execution_count": null,
   "metadata": {},
   "outputs": [],
   "source": [
    "testloader = data.DataLoader(Doors('test'), batch_size=1, num_workers=1)\n",
    "testiter = iter(testloader)"
   ]
  },
  {
   "cell_type": "code",
   "execution_count": null,
   "metadata": {},
   "outputs": [],
   "source": [
    "example = next(testiter)\n",
    "img, label = example\n",
    "img_rgb = ((img.numpy() + 1)/2 * 255).astype(int)[0]\n",
    "img_rgb = np.moveaxis(img_rgb, 0, 2)\n",
    "print(f'Expected: {label[0]}: {classes[label]}')\n",
    "model2.eval()\n",
    "predict = model(img).argmax().item()\n",
    "print(f'Got: {predict}: {classes[predict]}')\n",
    "plt.imshow(img_rgb)\n"
   ]
  },
  {
   "cell_type": "code",
   "execution_count": null,
   "metadata": {},
   "outputs": [],
   "source": [
    "model.eval()\n",
    "predict = model(img).argmax().item()\n",
    "print(f'{predict}: {classes[predict]}')"
   ]
  },
  {
   "cell_type": "code",
   "execution_count": null,
   "metadata": {},
   "outputs": [],
   "source": []
  }
 ],
 "metadata": {
  "kernelspec": {
   "display_name": "Python 3.8.10 ('venv': venv)",
   "language": "python",
   "name": "python3"
  },
  "language_info": {
   "codemirror_mode": {
    "name": "ipython",
    "version": 3
   },
   "file_extension": ".py",
   "mimetype": "text/x-python",
   "name": "python",
   "nbconvert_exporter": "python",
   "pygments_lexer": "ipython3",
   "version": "3.8.10"
  },
  "orig_nbformat": 4,
  "vscode": {
   "interpreter": {
    "hash": "c5539c5a0d7e2160645b6dc50b44ac4da68829e0da6c07ceda78814d0d2b6a9f"
   }
  }
 },
 "nbformat": 4,
 "nbformat_minor": 2
}
